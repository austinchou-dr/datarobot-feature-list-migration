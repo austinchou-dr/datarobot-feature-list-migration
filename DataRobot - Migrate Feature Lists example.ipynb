{
	"cells": [
		{
			"id": "673baa7bdc74b3d5708bbe02",
			"cell_type": "markdown",
			"source": "# Migrate Feature List\n\nThis notebook provides an example to migrate feature lists from one project to another. This assumes **both projects are created from datasets that have the same features**. \n\nReferences:\n* [Create Project feature lists API documentation](https://datarobot-public-api-client.readthedocs-hosted.com/en/latest-release/reference/modeling/project.html#create-project-featurelists)\n",
			"metadata": {
				"collapsed": false,
				"scrolled": false,
				"datarobot": {
					"language": "markdown"
				},
				"hide_code": false,
				"hide_results": false,
				"disable_run": false,
				"chart_settings": null,
				"custom_metric_settings": null,
				"custom_llm_metric_settings": null,
				"dataframe_view_options": null
			}
		},
		{
			"id": "673bab28dc74b3d5708bbe3f",
			"cell_type": "markdown",
			"source": "## Setup\n\n### Load libraries",
			"metadata": {
				"collapsed": false,
				"scrolled": false,
				"datarobot": {
					"language": "markdown"
				},
				"hide_code": false,
				"hide_results": false,
				"disable_run": false,
				"chart_settings": null,
				"custom_metric_settings": null,
				"custom_llm_metric_settings": null,
				"dataframe_view_options": null
			}
		},
		{
			"id": "673bae60d1ff588c3b108757",
			"cell_type": "code",
			"source": "# Load DataRobot library\nimport datarobot as dr\n\n# Load additional libraries\n# import pandas as pd\nimport os",
			"metadata": {
				"collapsed": false,
				"scrolled": false,
				"datarobot": {
					"language": "python"
				},
				"hide_code": false,
				"hide_results": false,
				"disable_run": false,
				"chart_settings": null,
				"custom_metric_settings": null,
				"custom_llm_metric_settings": null,
				"dataframe_view_options": null
			},
			"outputs": [],
			"execution_count": null
		},
		{
			"id": "673bae75dc74b3d5708bbf47",
			"cell_type": "markdown",
			"source": "### Connect to DataRobot\n\n**To connect to DataRobot,** you need to provide your **API Token** and the **endpoint**. For more information, please refer to the following documentation:\n\n* [**Create/Manage API keys via Developer tools in the GUI**](https://docs.datarobot.com/en/docs/api/api-quickstart/index.html#create-a-datarobot-api-key)\n* [**Different options to connect to DataRobot from the API client**](https://docs.datarobot.com/en/docs/api/api-quickstart/api-qs.html) \n\nIf you run this notebook **in DataRobot Notebooks, importing the datarobot library will automatically load your Token and Endpoint into the environment**. We can also set up Environment Variables attached to this notebook to hardcode specific API tokens and endpoints. This can be done on the left-hand menu with the Lock symbol (Environment variables). Environment Variables defined in that way will always be associated with this DataRobot notebook when opened.\n",
			"metadata": {
				"collapsed": false,
				"scrolled": false,
				"datarobot": {
					"language": "markdown"
				},
				"hide_code": false,
				"hide_results": false,
				"disable_run": false,
				"chart_settings": null,
				"custom_metric_settings": null,
				"custom_llm_metric_settings": null,
				"dataframe_view_options": null
			}
		},
		{
			"id": "673bae7cdc74b3d5708bbf49",
			"cell_type": "code",
			"source": "#### UPDATE THIS IF YOU ARE RUNNING THIS OUTSIDE OF DR NOTEBOOKS ####\n# Get our API and Endpoint that are already loaded into the environment\nDATAROBOT_API_TOKEN = os.environ['DATAROBOT_API_TOKEN'] # Pull from Developer tools if needed\nDATAROBOT_ENDPOINT = os.environ['DATAROBOT_ENDPOINT'] # e.g. https://app.datarobot.com/api/v2\n\n# Connect from notebook:\ndr.Client(\n    token=DATAROBOT_API_TOKEN, \n    endpoint=DATAROBOT_ENDPOINT\n)",
			"metadata": {
				"collapsed": false,
				"scrolled": false,
				"datarobot": {
					"language": "python"
				},
				"hide_code": false,
				"hide_results": false,
				"disable_run": false,
				"chart_settings": null,
				"custom_metric_settings": null,
				"custom_llm_metric_settings": null,
				"dataframe_view_options": null
			},
			"outputs": [],
			"execution_count": null
		},
		{
			"id": "673bae900822380c08142198",
			"cell_type": "markdown",
			"source": "## Retrieve projects and feature list to migrate",
			"metadata": {
				"collapsed": false,
				"scrolled": false,
				"datarobot": {
					"language": "markdown"
				},
				"hide_code": false,
				"hide_results": false,
				"disable_run": false,
				"chart_settings": null,
				"custom_metric_settings": null,
				"custom_llm_metric_settings": null,
				"dataframe_view_options": null
			}
		},
		{
			"id": "673baeb50822380c081421a6",
			"cell_type": "code",
			"source": "#### UPDATE THESE PARAMETERS ####\noriginal_project_id = '673bb203a447d22124ef6905'\ntarget_project_id = '673bb24128c46fbdacbc1484'\nfeaturelist_name_to_migrate = 'FL to migrate'",
			"metadata": {
				"collapsed": false,
				"scrolled": false,
				"datarobot": {
					"language": "python"
				},
				"hide_code": false,
				"hide_results": false,
				"disable_run": false,
				"chart_settings": null,
				"custom_metric_settings": null,
				"custom_llm_metric_settings": null,
				"dataframe_view_options": null
			},
			"outputs": [],
			"execution_count": null
		},
		{
			"id": "673baf36d1ff588c3b1087a3",
			"cell_type": "code",
			"source": "# Load projects based on IDs\noriginal_project = dr.Project.get(original_project_id)\ntarget_project = dr.Project.get(target_project_id)\n\n# Diagnostic\nprint(\"Original project: \" + original_project.project_name)\nprint(\"Original project: \" + original_project.get_uri())\nprint(\"Original project: \" + target_project.project_name)\nprint(\"Target project: \" + target_project.get_uri())",
			"metadata": {
				"collapsed": false,
				"scrolled": false,
				"datarobot": {
					"language": "python"
				},
				"hide_code": false,
				"hide_results": false,
				"disable_run": false,
				"chart_settings": null,
				"custom_metric_settings": null,
				"custom_llm_metric_settings": null,
				"dataframe_view_options": null
			},
			"outputs": [],
			"execution_count": null
		},
		{
			"id": "673baf64d1ff588c3b1087b9",
			"cell_type": "markdown",
			"source": "## Migrate feature list\n\nSteps:\n1. Retrieve feature list from original project\n2. Create corresponding feature list in target project",
			"metadata": {
				"collapsed": false,
				"scrolled": false,
				"datarobot": {
					"language": "markdown"
				},
				"hide_code": false,
				"hide_results": false,
				"disable_run": false,
				"chart_settings": null,
				"custom_metric_settings": null,
				"custom_llm_metric_settings": null,
				"dataframe_view_options": null
			}
		},
		{
			"id": "673baf7adc74b3d5708bbfa4",
			"cell_type": "code",
			"source": "# Retrieve feature list from original project\noriginal_FL = original_project.get_featurelist_by_name(featurelist_name_to_migrate)\nfeatures_in_original_FL = original_FL.features\n\n# Diagnostic\nprint(\"Feature list to migrate: \" + original_FL.name)\nprint(\"Features in feature list:\")\nprint(features_in_original_FL)\n\n# Create new feature list in target project\nprint(\"Create new feature list in target project:\")\ntarget_project.create_featurelist(\n    name=featurelist_name_to_migrate, \n    features=features_in_original_FL\n)",
			"metadata": {
				"collapsed": false,
				"scrolled": false,
				"datarobot": {
					"language": "python"
				},
				"hide_code": false,
				"hide_results": false,
				"disable_run": false,
				"chart_settings": null,
				"custom_metric_settings": null,
				"custom_llm_metric_settings": null,
				"dataframe_view_options": null
			},
			"outputs": [],
			"execution_count": null
		},
		{
			"id": "673baae20822380c0814205b",
			"cell_type": "markdown",
			"source": "# Additional resources/notes\n\nUsers can also create feature lists at the Dataset level if the dataset is uploaded into the AI Catalog. Projects created from an AI Catalog dataset will inherit all the feature lists created at the Dataset level. New versions of a Dataset will also inherit any pre-existing feature lists.\n\nAPI References:\n* [Manage dataset feature lists](https://datarobot-public-api-client.readthedocs-hosted.com/en/latest-release/reference/data/dataset.html#manage-dataset-feature-lists)\n* [Create new versions of a dataset (example: from a file)](https://datarobot-public-api-client.readthedocs-hosted.com/en/latest-release/autodoc/api_reference.html#datarobot.models.Dataset.create_version_from_file)",
			"metadata": {
				"collapsed": false,
				"scrolled": false,
				"datarobot": {
					"language": "markdown"
				},
				"hide_code": false,
				"hide_results": false,
				"disable_run": false,
				"chart_settings": null,
				"custom_metric_settings": null,
				"custom_llm_metric_settings": null,
				"dataframe_view_options": null
			}
		}
	],
	"metadata": {
		"kernelspec": {
			"name": "python",
			"language": "python",
			"display_name": "Python 3.11"
		},
		"language_info": {
			"name": "python",
			"version": ""
		}
	},
	"nbformat": 4,
	"nbformat_minor": 5
}